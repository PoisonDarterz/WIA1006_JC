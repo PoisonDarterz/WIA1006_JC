{
 "cells": [
  {
   "cell_type": "markdown",
   "source": [
    "## Data Cleaning - House Pricing.csv\n",
    "\n",
    "### Importing libraries\n"
   ],
   "metadata": {
    "collapsed": false
   }
  },
  {
   "cell_type": "code",
   "execution_count": 1,
   "outputs": [
    {
     "name": "stdout",
     "output_type": "stream",
     "text": [
      "Number of records in total: 545\n",
      "Number of records that has NaN values: 0\n"
     ]
    }
   ],
   "source": [
    "import pandas as pd\n",
    "df = pd.read_csv('HousePricing.csv')\n",
    "num_nan_rows = df.isnull().sum(axis=1).astype(bool).sum()\n",
    "total_rows = df.shape[0]\n",
    "print('Number of records in total: {}\\nNumber of records that has NaN values: {}'.format(total_rows, num_nan_rows))"
   ],
   "metadata": {
    "collapsed": false,
    "ExecuteTime": {
     "start_time": "2023-04-18T21:06:43.883788Z",
     "end_time": "2023-04-18T21:06:44.658400Z"
    }
   }
  },
  {
   "cell_type": "markdown",
   "source": [
    "### Dataset overview"
   ],
   "metadata": {
    "collapsed": false
   }
  },
  {
   "cell_type": "code",
   "execution_count": 2,
   "outputs": [
    {
     "name": "stdout",
     "output_type": "stream",
     "text": [
      "Unique values in column 'price' are:\n",
      "[13300000 12250000 12215000 11410000 10850000 10150000  9870000  9800000\n",
      "  9681000  9310000  9240000  9100000  8960000  8890000  8855000  8750000\n",
      "  8680000  8645000  8575000  8540000  8463000  8400000  8295000  8190000\n",
      "  8120000  8080940  8043000  7980000  7962500  7910000  7875000  7840000\n",
      "  7700000  7560000  7525000  7490000  7455000  7420000  7350000  7343000\n",
      "  7245000  7210000  7140000  7070000  7035000  7000000  6930000  6895000\n",
      "  6860000  6790000  6755000  6720000  6685000  6650000  6629000  6615000\n",
      "  6580000  6510000  6475000  6440000  6419000  6405000  6300000  6293000\n",
      "  6265000  6230000  6195000  6160000  6125000  6107500  6090000  6083000\n",
      "  6020000  5950000  5943000  5880000  5873000  5866000  5810000  5803000\n",
      "  5775000  5740000  5652500  5600000  5565000  5530000  5523000  5495000\n",
      "  5460000  5425000  5390000  5383000  5320000  5285000  5250000  5243000\n",
      "  5229000  5215000  5145000  5110000  5075000  5040000  5033000  5005000\n",
      "  4970000  4956000  4935000  4907000  4900000  4893000  4865000  4830000\n",
      "  4795000  4767000  4760000  4753000  4690000  4655000  4620000  4613000\n",
      "  4585000  4550000  4543000  4515000  4480000  4473000  4445000  4410000\n",
      "  4403000  4382000  4375000  4340000  4319000  4305000  4277000  4270000\n",
      "  4235000  4200000  4193000  4165000  4130000  4123000  4098500  4095000\n",
      "  4060000  4025000  4007500  3990000  3920000  3885000  3850000  3836000\n",
      "  3815000  3780000  3773000  3745000  3710000  3703000  3675000  3640000\n",
      "  3633000  3605000  3570000  3535000  3500000  3493000  3465000  3430000\n",
      "  3423000  3395000  3360000  3353000  3332000  3325000  3290000  3255000\n",
      "  3234000  3220000  3150000  3143000  3129000  3118850  3115000  3087000\n",
      "  3080000  3045000  3010000  3003000  2975000  2961000  2940000  2870000\n",
      "  2852500  2835000  2800000  2730000  2695000  2660000  2653000  2604000\n",
      "  2590000  2520000  2485000  2450000  2408000  2380000  2345000  2310000\n",
      "  2275000  2240000  2233000  2135000  2100000  1960000  1890000  1855000\n",
      "  1820000  1767150  1750000]\n",
      "Unique values in column 'area' are:\n",
      "[ 7420  8960  9960  7500  8580 16200  8100  5750 13200  6000  6550  3500\n",
      "  7800  6600  8500  4600  6420  4320  7155  8050  4560  8800  6540  8875\n",
      "  7950  5500  7475  7000  4880  5960  6840  7482  9000  6360  6480  4300\n",
      "  7440  6325  5150 11440  7680  8880  6240 11175  7700 12090  4000  5020\n",
      "  4040  4260  6500  5700 10500  3760  8250  6670  3960  7410  5000  6750\n",
      "  4800  7200  4100  6400  6350  4500  5450  3240  6615  8372  9620  6800\n",
      "  8000  6900  3700  7020  7231  6254  7320  6525 15600  7160 11460  5828\n",
      "  5200  5400  4640  5800  6660  4700  5136  4400  3300  3650  6100  2817\n",
      "  7980  3150  6210  6825  6710  6450 10269  8400  5300  3800  9800  8520\n",
      "  6050  7085  3180  3410  3000 11410  5720  3540  7600 10700  8150  4410\n",
      "  7686  2800  5948  4200  4520  4095  4120  4770  6300  2970  6720  4646\n",
      " 12900  3420  4995  4350  4160  6040  6862  4815  9166  6321 10240  6440\n",
      "  5170  3630  9667  3745  3880  5680  2870  5010  4510  3840  3640  2550\n",
      "  5320  5360  3520  4990  3510  3450  9860  5885  3162  3750  3968  4900\n",
      "  2880  4920  4950  3900  1905  4075  4032 10360  3400  2175  4360  7770\n",
      "  6650  2787  5040  5850  2610  2953  2747  2325  4079  2145  4840  4080\n",
      "  4046  4632  5985  6060  3600  3680  5600  5900  4992  4340  3460  4050\n",
      "  7260  3290  3816  8080  3780  7152  3850  2015  2176  3350  4820  5830\n",
      "  2856  2520  6930  3480  6020  3584  3120  5640  4280  3570  4130  2850\n",
      "  2275  4240  2135  3036  3990  7424  7350  3512  9500  5880 12944  3060\n",
      "  3185  1950  4785  4960  4750  3720  3100  2700  4775  2500  3792  3930\n",
      "  4370  2684  3986  1650  3069  5495  2398  2160  3090  2835  5076  4352\n",
      "  3660  3040  2640  2650  3934  2000  2430  2910  3210  3635  2475  3264\n",
      "  1836  3970  2400  3360  1700  3649  2990  3620]\n",
      "Unique values in column 'bedrooms' are:\n",
      "[4 3 5 2 6 1]\n",
      "Unique values in column 'bathrooms' are:\n",
      "[2 4 1 3]\n",
      "Unique values in column 'stories' are:\n",
      "[3 4 2 1]\n",
      "Unique values in column 'mainroad' are:\n",
      "['yes' 'no']\n",
      "Unique values in column 'guestroom' are:\n",
      "['no' 'yes']\n",
      "Unique values in column 'basement' are:\n",
      "['no' 'yes']\n",
      "Unique values in column 'hotwaterheating' are:\n",
      "['no' 'yes']\n",
      "Unique values in column 'airconditioning' are:\n",
      "['yes' 'no']\n",
      "Unique values in column 'parking' are:\n",
      "[2 3 0 1]\n",
      "Unique values in column 'prefarea' are:\n",
      "['yes' 'no']\n",
      "Unique values in column 'furnishingstatus' are:\n",
      "['furnished' 'semi-furnished' 'unfurnished']\n"
     ]
    }
   ],
   "source": [
    "df.head()\n",
    "df.columns\n",
    "for col in df.columns:\n",
    "    print(\"Unique values in column '{}' are:\".format(col))\n",
    "    print(df[col].unique())"
   ],
   "metadata": {
    "collapsed": false,
    "ExecuteTime": {
     "start_time": "2023-04-18T21:06:44.660404Z",
     "end_time": "2023-04-18T21:06:44.751449Z"
    }
   }
  },
  {
   "cell_type": "markdown",
   "source": [
    "### Non numerical -> numerical"
   ],
   "metadata": {
    "collapsed": false
   }
  },
  {
   "cell_type": "code",
   "execution_count": 3,
   "outputs": [
    {
     "data": {
      "text/plain": "      price  area  bedrooms  bathrooms  stories  mainroad  guestroom  \\\n0  13300000  7420         4          2        3         1          0   \n1  12250000  8960         4          4        4         1          0   \n2  12250000  9960         3          2        2         1          0   \n3  12215000  7500         4          2        2         1          0   \n4  11410000  7420         4          1        2         1          1   \n\n   basement  hotwaterheating  airconditioning  parking  prefarea  \\\n0         0                0                1        2         1   \n1         0                0                1        3         0   \n2         1                0                0        2         1   \n3         1                0                1        3         1   \n4         1                0                1        2         0   \n\n   furnishingstatus  \n0                 2  \n1                 2  \n2                 1  \n3                 2  \n4                 2  ",
      "text/html": "<div>\n<style scoped>\n    .dataframe tbody tr th:only-of-type {\n        vertical-align: middle;\n    }\n\n    .dataframe tbody tr th {\n        vertical-align: top;\n    }\n\n    .dataframe thead th {\n        text-align: right;\n    }\n</style>\n<table border=\"1\" class=\"dataframe\">\n  <thead>\n    <tr style=\"text-align: right;\">\n      <th></th>\n      <th>price</th>\n      <th>area</th>\n      <th>bedrooms</th>\n      <th>bathrooms</th>\n      <th>stories</th>\n      <th>mainroad</th>\n      <th>guestroom</th>\n      <th>basement</th>\n      <th>hotwaterheating</th>\n      <th>airconditioning</th>\n      <th>parking</th>\n      <th>prefarea</th>\n      <th>furnishingstatus</th>\n    </tr>\n  </thead>\n  <tbody>\n    <tr>\n      <th>0</th>\n      <td>13300000</td>\n      <td>7420</td>\n      <td>4</td>\n      <td>2</td>\n      <td>3</td>\n      <td>1</td>\n      <td>0</td>\n      <td>0</td>\n      <td>0</td>\n      <td>1</td>\n      <td>2</td>\n      <td>1</td>\n      <td>2</td>\n    </tr>\n    <tr>\n      <th>1</th>\n      <td>12250000</td>\n      <td>8960</td>\n      <td>4</td>\n      <td>4</td>\n      <td>4</td>\n      <td>1</td>\n      <td>0</td>\n      <td>0</td>\n      <td>0</td>\n      <td>1</td>\n      <td>3</td>\n      <td>0</td>\n      <td>2</td>\n    </tr>\n    <tr>\n      <th>2</th>\n      <td>12250000</td>\n      <td>9960</td>\n      <td>3</td>\n      <td>2</td>\n      <td>2</td>\n      <td>1</td>\n      <td>0</td>\n      <td>1</td>\n      <td>0</td>\n      <td>0</td>\n      <td>2</td>\n      <td>1</td>\n      <td>1</td>\n    </tr>\n    <tr>\n      <th>3</th>\n      <td>12215000</td>\n      <td>7500</td>\n      <td>4</td>\n      <td>2</td>\n      <td>2</td>\n      <td>1</td>\n      <td>0</td>\n      <td>1</td>\n      <td>0</td>\n      <td>1</td>\n      <td>3</td>\n      <td>1</td>\n      <td>2</td>\n    </tr>\n    <tr>\n      <th>4</th>\n      <td>11410000</td>\n      <td>7420</td>\n      <td>4</td>\n      <td>1</td>\n      <td>2</td>\n      <td>1</td>\n      <td>1</td>\n      <td>1</td>\n      <td>0</td>\n      <td>1</td>\n      <td>2</td>\n      <td>0</td>\n      <td>2</td>\n    </tr>\n  </tbody>\n</table>\n</div>"
     },
     "execution_count": 3,
     "metadata": {},
     "output_type": "execute_result"
    }
   ],
   "source": [
    "df['mainroad'] = df['mainroad'].map({'yes': 1, 'no': 0})\n",
    "df['guestroom'] = df['guestroom'].map({'yes': 1, 'no': 0})\n",
    "df['basement'] = df['basement'].map({'yes': 1, 'no': 0})\n",
    "df['hotwaterheating'] = df['hotwaterheating'].map({'yes': 1, 'no': 0})\n",
    "df['airconditioning'] = df['airconditioning'].map({'yes': 1, 'no': 0})\n",
    "df['prefarea'] = df['prefarea'].map({'yes': 1, 'no': 0})\n",
    "df['furnishingstatus'] = df['furnishingstatus'].map({'unfurnished': 0, 'semi-furnished': 1, 'furnished': 2})\n",
    "df.head()"
   ],
   "metadata": {
    "collapsed": false,
    "ExecuteTime": {
     "start_time": "2023-04-18T21:06:44.679205Z",
     "end_time": "2023-04-18T21:06:44.775045Z"
    }
   }
  },
  {
   "cell_type": "markdown",
   "source": [
    "### Normalize data"
   ],
   "metadata": {
    "collapsed": false
   }
  },
  {
   "cell_type": "code",
   "execution_count": 4,
   "outputs": [
    {
     "data": {
      "text/plain": "    id     price      area  bedrooms  bathrooms   stories  mainroad  \\\n0    0  1.000000  0.396564       0.6   0.333333  0.666667       1.0   \n1    1  0.909091  0.502405       0.6   1.000000  1.000000       1.0   \n2    2  0.909091  0.571134       0.4   0.333333  0.333333       1.0   \n3    3  0.906061  0.402062       0.6   0.333333  0.333333       1.0   \n4    4  0.836364  0.396564       0.6   0.000000  0.333333       1.0   \n5    5  0.787879  0.402062       0.4   0.666667  0.000000       1.0   \n6    6  0.727273  0.476289       0.6   0.666667  1.000000       1.0   \n7    7  0.727273  1.000000       0.8   0.666667  0.333333       1.0   \n8    8  0.703030  0.443299       0.6   0.000000  0.333333       1.0   \n9    9  0.696970  0.281787       0.4   0.333333  1.000000       1.0   \n10  10  0.696970  0.793814       0.4   0.000000  0.333333       1.0   \n11  11  0.686667  0.298969       0.6   0.666667  0.333333       1.0   \n12  12  0.654545  0.336770       0.6   0.333333  0.333333       1.0   \n13  13  0.648485  0.127148       0.6   0.333333  0.333333       1.0   \n14  14  0.648485  0.422680       0.4   0.333333  0.333333       1.0   \n15  15  0.636364  0.298969       0.6   0.000000  0.333333       1.0   \n16  16  0.636364  0.340206       0.6   0.333333  0.333333       1.0   \n17  17  0.624242  0.470790       0.4   0.333333  1.000000       1.0   \n18  18  0.618182  0.202749       0.4   0.333333  0.333333       1.0   \n19  19  0.615152  0.327835       0.4   0.333333  0.333333       1.0   \n\n    guestroom  basement  hotwaterheating  airconditioning   parking  prefarea  \\\n0         0.0       0.0              0.0              1.0  0.666667       1.0   \n1         0.0       0.0              0.0              1.0  1.000000       0.0   \n2         0.0       1.0              0.0              0.0  0.666667       1.0   \n3         0.0       1.0              0.0              1.0  1.000000       1.0   \n4         1.0       1.0              0.0              1.0  0.666667       0.0   \n5         0.0       1.0              0.0              1.0  0.666667       1.0   \n6         0.0       0.0              0.0              1.0  0.666667       1.0   \n7         0.0       0.0              0.0              0.0  0.000000       0.0   \n8         1.0       1.0              0.0              1.0  0.666667       1.0   \n9         1.0       0.0              0.0              1.0  0.333333       1.0   \n10        0.0       1.0              0.0              1.0  0.666667       1.0   \n11        1.0       1.0              1.0              0.0  0.666667       0.0   \n12        0.0       0.0              0.0              1.0  0.333333       1.0   \n13        0.0       0.0              1.0              0.0  0.666667       0.0   \n14        0.0       0.0              0.0              0.0  0.000000       1.0   \n15        0.0       1.0              0.0              0.0  0.666667       0.0   \n16        1.0       1.0              0.0              1.0  0.333333       1.0   \n17        0.0       0.0              0.0              1.0  0.666667       0.0   \n18        1.0       0.0              0.0              1.0  0.666667       0.0   \n19        0.0       0.0              0.0              1.0  0.333333       1.0   \n\n    furnishingstatus  \n0                1.0  \n1                1.0  \n2                0.5  \n3                1.0  \n4                1.0  \n5                0.5  \n6                0.5  \n7                0.0  \n8                1.0  \n9                0.0  \n10               1.0  \n11               0.5  \n12               0.5  \n13               1.0  \n14               0.5  \n15               0.5  \n16               0.0  \n17               1.0  \n18               1.0  \n19               0.5  ",
      "text/html": "<div>\n<style scoped>\n    .dataframe tbody tr th:only-of-type {\n        vertical-align: middle;\n    }\n\n    .dataframe tbody tr th {\n        vertical-align: top;\n    }\n\n    .dataframe thead th {\n        text-align: right;\n    }\n</style>\n<table border=\"1\" class=\"dataframe\">\n  <thead>\n    <tr style=\"text-align: right;\">\n      <th></th>\n      <th>id</th>\n      <th>price</th>\n      <th>area</th>\n      <th>bedrooms</th>\n      <th>bathrooms</th>\n      <th>stories</th>\n      <th>mainroad</th>\n      <th>guestroom</th>\n      <th>basement</th>\n      <th>hotwaterheating</th>\n      <th>airconditioning</th>\n      <th>parking</th>\n      <th>prefarea</th>\n      <th>furnishingstatus</th>\n    </tr>\n  </thead>\n  <tbody>\n    <tr>\n      <th>0</th>\n      <td>0</td>\n      <td>1.000000</td>\n      <td>0.396564</td>\n      <td>0.6</td>\n      <td>0.333333</td>\n      <td>0.666667</td>\n      <td>1.0</td>\n      <td>0.0</td>\n      <td>0.0</td>\n      <td>0.0</td>\n      <td>1.0</td>\n      <td>0.666667</td>\n      <td>1.0</td>\n      <td>1.0</td>\n    </tr>\n    <tr>\n      <th>1</th>\n      <td>1</td>\n      <td>0.909091</td>\n      <td>0.502405</td>\n      <td>0.6</td>\n      <td>1.000000</td>\n      <td>1.000000</td>\n      <td>1.0</td>\n      <td>0.0</td>\n      <td>0.0</td>\n      <td>0.0</td>\n      <td>1.0</td>\n      <td>1.000000</td>\n      <td>0.0</td>\n      <td>1.0</td>\n    </tr>\n    <tr>\n      <th>2</th>\n      <td>2</td>\n      <td>0.909091</td>\n      <td>0.571134</td>\n      <td>0.4</td>\n      <td>0.333333</td>\n      <td>0.333333</td>\n      <td>1.0</td>\n      <td>0.0</td>\n      <td>1.0</td>\n      <td>0.0</td>\n      <td>0.0</td>\n      <td>0.666667</td>\n      <td>1.0</td>\n      <td>0.5</td>\n    </tr>\n    <tr>\n      <th>3</th>\n      <td>3</td>\n      <td>0.906061</td>\n      <td>0.402062</td>\n      <td>0.6</td>\n      <td>0.333333</td>\n      <td>0.333333</td>\n      <td>1.0</td>\n      <td>0.0</td>\n      <td>1.0</td>\n      <td>0.0</td>\n      <td>1.0</td>\n      <td>1.000000</td>\n      <td>1.0</td>\n      <td>1.0</td>\n    </tr>\n    <tr>\n      <th>4</th>\n      <td>4</td>\n      <td>0.836364</td>\n      <td>0.396564</td>\n      <td>0.6</td>\n      <td>0.000000</td>\n      <td>0.333333</td>\n      <td>1.0</td>\n      <td>1.0</td>\n      <td>1.0</td>\n      <td>0.0</td>\n      <td>1.0</td>\n      <td>0.666667</td>\n      <td>0.0</td>\n      <td>1.0</td>\n    </tr>\n    <tr>\n      <th>5</th>\n      <td>5</td>\n      <td>0.787879</td>\n      <td>0.402062</td>\n      <td>0.4</td>\n      <td>0.666667</td>\n      <td>0.000000</td>\n      <td>1.0</td>\n      <td>0.0</td>\n      <td>1.0</td>\n      <td>0.0</td>\n      <td>1.0</td>\n      <td>0.666667</td>\n      <td>1.0</td>\n      <td>0.5</td>\n    </tr>\n    <tr>\n      <th>6</th>\n      <td>6</td>\n      <td>0.727273</td>\n      <td>0.476289</td>\n      <td>0.6</td>\n      <td>0.666667</td>\n      <td>1.000000</td>\n      <td>1.0</td>\n      <td>0.0</td>\n      <td>0.0</td>\n      <td>0.0</td>\n      <td>1.0</td>\n      <td>0.666667</td>\n      <td>1.0</td>\n      <td>0.5</td>\n    </tr>\n    <tr>\n      <th>7</th>\n      <td>7</td>\n      <td>0.727273</td>\n      <td>1.000000</td>\n      <td>0.8</td>\n      <td>0.666667</td>\n      <td>0.333333</td>\n      <td>1.0</td>\n      <td>0.0</td>\n      <td>0.0</td>\n      <td>0.0</td>\n      <td>0.0</td>\n      <td>0.000000</td>\n      <td>0.0</td>\n      <td>0.0</td>\n    </tr>\n    <tr>\n      <th>8</th>\n      <td>8</td>\n      <td>0.703030</td>\n      <td>0.443299</td>\n      <td>0.6</td>\n      <td>0.000000</td>\n      <td>0.333333</td>\n      <td>1.0</td>\n      <td>1.0</td>\n      <td>1.0</td>\n      <td>0.0</td>\n      <td>1.0</td>\n      <td>0.666667</td>\n      <td>1.0</td>\n      <td>1.0</td>\n    </tr>\n    <tr>\n      <th>9</th>\n      <td>9</td>\n      <td>0.696970</td>\n      <td>0.281787</td>\n      <td>0.4</td>\n      <td>0.333333</td>\n      <td>1.000000</td>\n      <td>1.0</td>\n      <td>1.0</td>\n      <td>0.0</td>\n      <td>0.0</td>\n      <td>1.0</td>\n      <td>0.333333</td>\n      <td>1.0</td>\n      <td>0.0</td>\n    </tr>\n    <tr>\n      <th>10</th>\n      <td>10</td>\n      <td>0.696970</td>\n      <td>0.793814</td>\n      <td>0.4</td>\n      <td>0.000000</td>\n      <td>0.333333</td>\n      <td>1.0</td>\n      <td>0.0</td>\n      <td>1.0</td>\n      <td>0.0</td>\n      <td>1.0</td>\n      <td>0.666667</td>\n      <td>1.0</td>\n      <td>1.0</td>\n    </tr>\n    <tr>\n      <th>11</th>\n      <td>11</td>\n      <td>0.686667</td>\n      <td>0.298969</td>\n      <td>0.6</td>\n      <td>0.666667</td>\n      <td>0.333333</td>\n      <td>1.0</td>\n      <td>1.0</td>\n      <td>1.0</td>\n      <td>1.0</td>\n      <td>0.0</td>\n      <td>0.666667</td>\n      <td>0.0</td>\n      <td>0.5</td>\n    </tr>\n    <tr>\n      <th>12</th>\n      <td>12</td>\n      <td>0.654545</td>\n      <td>0.336770</td>\n      <td>0.6</td>\n      <td>0.333333</td>\n      <td>0.333333</td>\n      <td>1.0</td>\n      <td>0.0</td>\n      <td>0.0</td>\n      <td>0.0</td>\n      <td>1.0</td>\n      <td>0.333333</td>\n      <td>1.0</td>\n      <td>0.5</td>\n    </tr>\n    <tr>\n      <th>13</th>\n      <td>13</td>\n      <td>0.648485</td>\n      <td>0.127148</td>\n      <td>0.6</td>\n      <td>0.333333</td>\n      <td>0.333333</td>\n      <td>1.0</td>\n      <td>0.0</td>\n      <td>0.0</td>\n      <td>1.0</td>\n      <td>0.0</td>\n      <td>0.666667</td>\n      <td>0.0</td>\n      <td>1.0</td>\n    </tr>\n    <tr>\n      <th>14</th>\n      <td>14</td>\n      <td>0.648485</td>\n      <td>0.422680</td>\n      <td>0.4</td>\n      <td>0.333333</td>\n      <td>0.333333</td>\n      <td>1.0</td>\n      <td>0.0</td>\n      <td>0.0</td>\n      <td>0.0</td>\n      <td>0.0</td>\n      <td>0.000000</td>\n      <td>1.0</td>\n      <td>0.5</td>\n    </tr>\n    <tr>\n      <th>15</th>\n      <td>15</td>\n      <td>0.636364</td>\n      <td>0.298969</td>\n      <td>0.6</td>\n      <td>0.000000</td>\n      <td>0.333333</td>\n      <td>1.0</td>\n      <td>0.0</td>\n      <td>1.0</td>\n      <td>0.0</td>\n      <td>0.0</td>\n      <td>0.666667</td>\n      <td>0.0</td>\n      <td>0.5</td>\n    </tr>\n    <tr>\n      <th>16</th>\n      <td>16</td>\n      <td>0.636364</td>\n      <td>0.340206</td>\n      <td>0.6</td>\n      <td>0.333333</td>\n      <td>0.333333</td>\n      <td>1.0</td>\n      <td>1.0</td>\n      <td>1.0</td>\n      <td>0.0</td>\n      <td>1.0</td>\n      <td>0.333333</td>\n      <td>1.0</td>\n      <td>0.0</td>\n    </tr>\n    <tr>\n      <th>17</th>\n      <td>17</td>\n      <td>0.624242</td>\n      <td>0.470790</td>\n      <td>0.4</td>\n      <td>0.333333</td>\n      <td>1.000000</td>\n      <td>1.0</td>\n      <td>0.0</td>\n      <td>0.0</td>\n      <td>0.0</td>\n      <td>1.0</td>\n      <td>0.666667</td>\n      <td>0.0</td>\n      <td>1.0</td>\n    </tr>\n    <tr>\n      <th>18</th>\n      <td>18</td>\n      <td>0.618182</td>\n      <td>0.202749</td>\n      <td>0.4</td>\n      <td>0.333333</td>\n      <td>0.333333</td>\n      <td>1.0</td>\n      <td>1.0</td>\n      <td>0.0</td>\n      <td>0.0</td>\n      <td>1.0</td>\n      <td>0.666667</td>\n      <td>0.0</td>\n      <td>1.0</td>\n    </tr>\n    <tr>\n      <th>19</th>\n      <td>19</td>\n      <td>0.615152</td>\n      <td>0.327835</td>\n      <td>0.4</td>\n      <td>0.333333</td>\n      <td>0.333333</td>\n      <td>1.0</td>\n      <td>0.0</td>\n      <td>0.0</td>\n      <td>0.0</td>\n      <td>1.0</td>\n      <td>0.333333</td>\n      <td>1.0</td>\n      <td>0.5</td>\n    </tr>\n  </tbody>\n</table>\n</div>"
     },
     "execution_count": 4,
     "metadata": {},
     "output_type": "execute_result"
    }
   ],
   "source": [
    "from sklearn.preprocessing import MinMaxScaler\n",
    "scaler = MinMaxScaler()\n",
    "df['id'] = [i for i in range(len(df))]\n",
    "id = df.pop('id')\n",
    "df_normalized = pd.DataFrame(scaler.fit_transform(df), columns=df.columns)\n",
    "df_normalized = pd.concat([df_normalized, id.reset_index(drop=True)], axis=1)\n",
    "last_col = df_normalized.pop(df_normalized.columns[-1])\n",
    "df_normalized.insert(0, last_col.name, last_col)\n",
    "df_normalized.head(20)"
   ],
   "metadata": {
    "collapsed": false,
    "ExecuteTime": {
     "start_time": "2023-04-18T21:06:44.728859Z",
     "end_time": "2023-04-18T21:06:47.664927Z"
    }
   }
  },
  {
   "cell_type": "markdown",
   "source": [
    "### Save to csv"
   ],
   "metadata": {
    "collapsed": false
   }
  },
  {
   "cell_type": "code",
   "execution_count": 5,
   "outputs": [],
   "source": [
    "df_normalized.to_csv('cleaned_data_house.csv', index=False)"
   ],
   "metadata": {
    "collapsed": false,
    "ExecuteTime": {
     "start_time": "2023-04-18T21:06:47.255285Z",
     "end_time": "2023-04-18T21:06:47.699719Z"
    }
   }
  },
  {
   "cell_type": "code",
   "execution_count": 5,
   "outputs": [],
   "source": [],
   "metadata": {
    "collapsed": false,
    "ExecuteTime": {
     "start_time": "2023-04-18T21:06:47.285675Z",
     "end_time": "2023-04-18T21:06:47.707253Z"
    }
   }
  }
 ],
 "metadata": {
  "kernelspec": {
   "display_name": "Python 3",
   "language": "python",
   "name": "python3"
  },
  "language_info": {
   "codemirror_mode": {
    "name": "ipython",
    "version": 2
   },
   "file_extension": ".py",
   "mimetype": "text/x-python",
   "name": "python",
   "nbconvert_exporter": "python",
   "pygments_lexer": "ipython2",
   "version": "2.7.6"
  }
 },
 "nbformat": 4,
 "nbformat_minor": 0
}
