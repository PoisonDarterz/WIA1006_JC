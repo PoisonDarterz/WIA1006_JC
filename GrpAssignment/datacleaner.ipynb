{
 "cells": [
  {
   "cell_type": "markdown",
   "source": [
    "## Data Cleaning - framingham.csv\n",
    "\n",
    "### Import libraries"
   ],
   "metadata": {
    "collapsed": false
   }
  },
  {
   "cell_type": "code",
   "execution_count": 10,
   "outputs": [
    {
     "name": "stdout",
     "output_type": "stream",
     "text": [
      "Number of records in total: 4238\n",
      "Number of records that has NaN values: 582\n"
     ]
    }
   ],
   "source": [
    "import pandas as pd\n",
    "df = pd.read_csv('GrpAssignment/framingham.csv')\n",
    "num_nan_rows = df.isnull().sum(axis=1).astype(bool).sum()\n",
    "total_rows = df.shape[0]\n",
    "print('Number of records in total: {}\\nNumber of records that has NaN values: {}'.format(total_rows, num_nan_rows))"
   ],
   "metadata": {
    "collapsed": false,
    "ExecuteTime": {
     "start_time": "2023-04-14T16:14:30.615924Z",
     "end_time": "2023-04-14T16:14:30.700269Z"
    }
   }
  },
  {
   "cell_type": "markdown",
   "source": [
    "### Drop rows with missing values"
   ],
   "metadata": {
    "collapsed": false
   }
  },
  {
   "cell_type": "code",
   "execution_count": 11,
   "outputs": [
    {
     "name": "stdout",
     "output_type": "stream",
     "text": [
      "Number of records after removing NaN values: 3656\n"
     ]
    }
   ],
   "source": [
    "df = df.dropna()\n",
    "print('Number of records after removing NaN values: {}'.format(df.shape[0]))"
   ],
   "metadata": {
    "collapsed": false,
    "ExecuteTime": {
     "start_time": "2023-04-14T16:14:30.642927Z",
     "end_time": "2023-04-14T16:14:30.710957Z"
    }
   }
  },
  {
   "cell_type": "markdown",
   "source": [
    "### Dataset overview"
   ],
   "metadata": {
    "collapsed": false
   }
  },
  {
   "cell_type": "code",
   "execution_count": 12,
   "outputs": [
    {
     "name": "stdout",
     "output_type": "stream",
     "text": [
      "Unique values in column 'id' are:\n",
      "[   0    1    2 ... 4233 4234 4237]\n",
      "Unique values in column 'male' are:\n",
      "[1 0]\n",
      "Unique values in column 'age' are:\n",
      "[39 46 48 61 43 63 45 52 50 41 38 42 44 47 35 60 36 59 54 37 53 49 65 51\n",
      " 62 40 56 67 57 66 64 55 58 68 34 33 32 70 69]\n",
      "Unique values in column 'education' are:\n",
      "[4. 2. 1. 3.]\n",
      "Unique values in column 'currentSmoker' are:\n",
      "[0 1]\n",
      "Unique values in column 'cigsPerDay' are:\n",
      "[ 0. 20. 30. 23. 15. 10.  5. 35. 43.  1. 40.  3.  9.  2. 12.  4. 18. 60.\n",
      " 25. 45.  8. 13. 11.  7.  6. 38. 50. 29. 17. 16. 19. 70. 14.]\n",
      "Unique values in column 'BPMeds' are:\n",
      "[0. 1.]\n",
      "Unique values in column 'prevalentStroke' are:\n",
      "[0 1]\n",
      "Unique values in column 'prevalentHyp' are:\n",
      "[0 1]\n",
      "Unique values in column 'diabetes' are:\n",
      "[0 1]\n",
      "Unique values in column 'totChol' are:\n",
      "[195. 250. 245. 225. 285. 228. 205. 313. 260. 254. 247. 294. 332. 221.\n",
      " 232. 291. 190. 234. 215. 270. 272. 295. 226. 209. 214. 178. 233. 180.\n",
      " 243. 237. 311. 208. 252. 261. 179. 267. 216. 240. 266. 255. 185. 220.\n",
      " 235. 212. 223. 300. 302. 175. 189. 258. 202. 183. 274. 170. 210. 197.\n",
      " 326. 188. 256. 244. 193. 239. 296. 269. 275. 268. 265. 173. 273. 290.\n",
      " 278. 264. 282. 257. 241. 288. 200. 213. 303. 246. 150. 187. 286. 154.\n",
      " 279. 293. 259. 219. 230. 320. 312. 165. 159. 174. 242. 301. 167. 308.\n",
      " 325. 229. 236. 224. 253. 464. 248. 171. 186. 227. 249. 176. 196. 310.\n",
      " 164. 135. 238. 207. 342. 287. 182. 352. 284. 203. 262. 155. 323. 206.\n",
      " 283. 319. 194. 340. 328. 222. 368. 218. 276. 339. 231. 198. 201. 277.\n",
      " 304. 177. 199. 292. 305. 152. 161. 168. 181. 251. 271. 217. 370. 439.\n",
      " 145. 263. 330. 157. 398. 162. 314. 166. 160. 281. 289. 355. 307. 156.\n",
      " 329. 143. 211. 298. 334. 192. 184. 204. 280. 191. 163. 318. 353. 360.\n",
      " 335. 158. 346. 169. 140. 324. 600. 315. 392. 322. 306. 309. 149. 137.\n",
      " 172. 317. 358. 345. 391. 410. 297. 338. 148. 372. 366. 333. 327. 344.\n",
      " 144. 390. 321. 405. 359. 350. 336. 380. 299. 124. 371. 113. 354. 382.\n",
      " 364. 341. 133. 367. 153. 432. 351. 337. 363. 331. 316. 361. 453. 347.\n",
      " 373. 385. 119.]\n",
      "Unique values in column 'sysBP' are:\n",
      "[106.  121.  127.5 150.  130.  180.  138.  100.  141.5 162.  133.  131.\n",
      " 142.  124.  140.  112.  122.  139.  108.  148.  132.  137.5 102.  182.\n",
      " 115.  147.  124.5 160.  153.  111.  116.5 206.   96.  179.5 119.  116.\n",
      " 156.5 145.  114.  143.5 158.  157.  123.5 126.5 136.  154.  190.  107.\n",
      " 112.5 110.  138.5 155.  151.  152.  179.  113.  200.  132.5 126.  123.\n",
      " 134.  141.  135.  187.  127.  160.5 105.  109.  128.  118.  117.5 149.\n",
      " 180.5 136.5 212.  191.  121.5 173.  144.  129.5 117.  125.  144.5 170.\n",
      " 137.   94.  166.  177.5 129.  159.  130.5 107.5 189.  168.  197.5 146.\n",
      " 174.   98.  131.5 101.  158.5  97.  151.5  97.5 120.  204.  157.5 140.5\n",
      " 171.  215.   95.  156.  122.5 178.  146.5 113.5 197.   90.  109.5 165.\n",
      "  95.5 209.  162.5 295.  103.  134.5 115.5 174.5 163.  118.5 185.  220.\n",
      " 164.  120.5  98.5 161.  139.5 168.5 176.  163.5 128.5 167.  205.5 119.5\n",
      " 167.5 152.5 186.  183.  153.5 147.5 175.  142.5 192.   96.5 159.5 177.\n",
      " 102.5 244.  104.  213.  199.  184.  198.  114.5 125.5 111.5 105.5 143.\n",
      " 161.5 164.5 171.5 108.5 201.  148.5 172.  243.  145.5 187.5  99.  181.\n",
      " 133.5 100.5 135.5 172.5 103.5 149.5 182.5 186.5 217.  196.  193.  110.5\n",
      " 155.5  92.  169.  166.5 202.  150.5 195.  232.   85.5 184.5 188.  205.\n",
      " 169.5 210.  181.5 188.5 176.5  92.5 202.5 154.5  83.5 106.5 170.5  93.\n",
      " 175.5 207.5 199.5 101.5 248.   99.5  85.  230.  214.  192.5 104.5 194.\n",
      "  93.5 207.  185.5]\n",
      "Unique values in column 'diaBP' are:\n",
      "[ 70.   81.   80.   95.   84.  110.   71.   89.  107.   76.   88.   94.\n",
      "  90.   78.   84.5  70.5  82.   68.   91.  121.   85.5  85.   74.   92.5\n",
      "  98.  101.   73.   83.5  92.   63.  114.   77.5  69.   66.   82.5 102.\n",
      "  79.   75.   87.   99.   60.   67.5  72.5 106.   86.5 104.   86.   61.5\n",
      "  71.5  76.5  64.   77.   88.5 105.   96.   97.  100.  106.5  93.   80.5\n",
      " 124.5  61.   83.   67.   74.5  66.5  65.   72.   99.5 122.5  57.   57.5\n",
      " 111.   78.5 104.5  89.5 112.   55.  120.  118.   59.  133.   95.5  96.5\n",
      " 135.   64.5  68.5  98.5  62.  117.   59.5 103.   75.5  73.5  69.5  87.5\n",
      " 108.   93.5  90.5 114.5  62.5  94.5 140.  124.   91.5 115.  109.  102.5\n",
      "  65.5 105.5 103.5  63.5  79.5 107.5 142.5 109.5  58.   97.5 116.5 100.5\n",
      " 116.  119.   81.5  54.  132.  101.5 136.   51.  128.  125.  130.  110.5\n",
      " 113.   53.  108.5 112.5  52.   48.   56.   60.5 115.5 127.5]\n",
      "Unique values in column 'BMI' are:\n",
      "[26.97 28.73 25.34 ... 26.7  43.67 19.71]\n",
      "Unique values in column 'heartRate' are:\n",
      "[ 80.  95.  75.  65.  85.  77.  60.  79.  76.  93.  72.  98.  64.  70.\n",
      "  71.  62.  73.  90.  96.  68.  63.  88.  78.  83. 100.  84.  57.  50.\n",
      "  74.  86.  55.  92.  66.  87. 110.  81.  56.  89.  82.  54.  69.  67.\n",
      "  52.  61. 140. 130.  58. 104.  94. 105.  91.  53. 108. 106.  59. 107.\n",
      "  48. 112. 125. 103.  44.  47.  45.  97. 122. 102. 120.  99. 115. 143.\n",
      " 101.  46.]\n",
      "Unique values in column 'glucose' are:\n",
      "[ 77.  76.  70. 103.  85.  99.  78.  79.  88.  61.  64.  84.  72.  89.\n",
      "  65. 113.  75.  83.  66.  74.  63.  87. 225.  90.  80. 100. 215.  98.\n",
      "  95.  94.  55.  82.  93.  73.  45. 202.  68.  97. 104.  96. 126. 120.\n",
      " 105.  71.  56.  60. 117.  62. 102.  58.  92. 109.  86. 107.  54.  67.\n",
      "  69.  57.  91. 132. 150.  59.  81. 115. 140. 112. 118. 114. 160. 110.\n",
      " 123. 108. 145. 122. 137. 106. 127. 205. 130. 101.  47.  53. 216. 163.\n",
      " 144. 116. 121. 172. 124. 111.  40. 186. 223. 325.  44. 156. 268.  50.\n",
      " 274. 292. 255. 136. 206. 131. 148.  43. 173. 386. 155. 147. 170.  52.\n",
      " 320. 254. 394. 270. 244. 183. 142. 119. 167. 135. 207. 129. 177. 250.\n",
      " 294. 125. 332. 368. 348. 370. 193. 191. 256. 235. 210. 260.]\n",
      "Unique values in column 'TenYearCHD' are:\n",
      "[0 1]\n"
     ]
    }
   ],
   "source": [
    "df.head()\n",
    "df.columns\n",
    "for col in df.columns:\n",
    "    print(\"Unique values in column '{}' are:\".format(col))\n",
    "    print(df[col].unique())"
   ],
   "metadata": {
    "collapsed": false,
    "ExecuteTime": {
     "start_time": "2023-04-14T16:14:30.661977Z",
     "end_time": "2023-04-14T16:14:30.711864Z"
    }
   }
  },
  {
   "cell_type": "markdown",
   "source": [
    "### Normalize data"
   ],
   "metadata": {
    "collapsed": false
   }
  },
  {
   "cell_type": "code",
   "execution_count": 13,
   "outputs": [
    {
     "data": {
      "text/plain": "    id  male       age  education  currentSmoker  cigsPerDay  BPMeds  \\\n0    0   1.0  0.184211   1.000000            0.0    0.000000     0.0   \n1    1   0.0  0.368421   0.333333            0.0    0.000000     0.0   \n2    2   1.0  0.421053   0.000000            1.0    0.285714     0.0   \n3    3   0.0  0.763158   0.666667            1.0    0.428571     0.0   \n4    4   0.0  0.368421   0.666667            1.0    0.328571     0.0   \n5    5   0.0  0.289474   0.333333            0.0    0.000000     0.0   \n6    6   0.0  0.815789   0.000000            0.0    0.000000     0.0   \n7    7   0.0  0.342105   0.333333            1.0    0.285714     0.0   \n8    8   1.0  0.526316   0.000000            0.0    0.000000     0.0   \n9    9   1.0  0.289474   0.000000            1.0    0.428571     0.0   \n10  10   0.0  0.473684   0.000000            0.0    0.000000     0.0   \n11  11   0.0  0.289474   0.333333            0.0    0.000000     0.0   \n12  12   1.0  0.368421   0.000000            1.0    0.214286     0.0   \n13  13   0.0  0.236842   0.666667            0.0    0.000000     1.0   \n14  15   0.0  0.157895   0.333333            1.0    0.285714     0.0   \n15  16   1.0  0.421053   0.666667            1.0    0.142857     0.0   \n16  17   0.0  0.368421   0.333333            1.0    0.285714     0.0   \n17  18   0.0  0.157895   0.333333            1.0    0.071429     0.0   \n18  19   1.0  0.236842   0.333333            0.0    0.000000     0.0   \n19  20   0.0  0.263158   0.333333            1.0    0.428571     0.0   \n\n    prevalentStroke  prevalentHyp  diabetes   totChol     sysBP     diaBP  \\\n0               0.0           0.0       0.0  0.168378  0.106383  0.232804   \n1               0.0           0.0       0.0  0.281314  0.177305  0.349206   \n2               0.0           0.0       0.0  0.271047  0.208038  0.338624   \n3               0.0           1.0       0.0  0.229979  0.314421  0.497354   \n4               0.0           0.0       0.0  0.353183  0.219858  0.380952   \n5               0.0           1.0       0.0  0.236140  0.456265  0.656085   \n6               0.0           0.0       0.0  0.188912  0.257683  0.243386   \n7               0.0           0.0       0.0  0.410678  0.078014  0.243386   \n8               0.0           1.0       0.0  0.301848  0.274232  0.433862   \n9               0.0           1.0       0.0  0.229979  0.371158  0.624339   \n10              0.0           0.0       0.0  0.289528  0.234043  0.296296   \n11              0.0           0.0       0.0  0.275154  0.224586  0.423280   \n12              0.0           1.0       0.0  0.371663  0.276596  0.486772   \n13              0.0           1.0       0.0  0.449692  0.191489  0.423280   \n14              0.0           1.0       0.0  0.221766  0.267139  0.444444   \n15              0.0           1.0       0.0  0.244353  0.257683  0.444444   \n16              0.0           0.0       0.0  0.365503  0.134752  0.317460   \n17              0.0           0.0       0.0  0.168378  0.182033  0.386243   \n18              0.0           0.0       0.0  0.168378  0.262411  0.423280   \n19              0.0           0.0       0.0  0.158111  0.115839  0.238095   \n\n         BMI  heartRate   glucose  TenYearCHD  \n0   0.277024   0.363636  0.104520         0.0  \n1   0.319680   0.515152  0.101695         0.0  \n2   0.237518   0.313131  0.084746         0.0  \n3   0.316045   0.212121  0.177966         1.0  \n4   0.183228   0.414141  0.127119         0.0  \n5   0.357731   0.333333  0.166667         0.0  \n6   0.425836   0.161616  0.127119         1.0  \n7   0.148812   0.353535  0.107345         0.0  \n8   0.262239   0.323232  0.110169         0.0  \n9   0.195589   0.494949  0.135593         0.0  \n10  0.178623   0.313131  0.101695         0.0  \n11  0.293262   0.282828  0.059322         0.0  \n12  0.261028   0.545455  0.067797         0.0  \n13  0.382210   0.212121  0.124294         0.0  \n14  0.140814   0.515152  0.084746         1.0  \n15  0.165536   0.202020  0.090395         0.0  \n16  0.190015   0.363636  0.138418         1.0  \n17  0.186621   0.313131  0.107345         0.0  \n18  0.274842   0.414141  0.070621         0.0  \n19  0.146631   0.282828  0.127119         0.0  ",
      "text/html": "<div>\n<style scoped>\n    .dataframe tbody tr th:only-of-type {\n        vertical-align: middle;\n    }\n\n    .dataframe tbody tr th {\n        vertical-align: top;\n    }\n\n    .dataframe thead th {\n        text-align: right;\n    }\n</style>\n<table border=\"1\" class=\"dataframe\">\n  <thead>\n    <tr style=\"text-align: right;\">\n      <th></th>\n      <th>id</th>\n      <th>male</th>\n      <th>age</th>\n      <th>education</th>\n      <th>currentSmoker</th>\n      <th>cigsPerDay</th>\n      <th>BPMeds</th>\n      <th>prevalentStroke</th>\n      <th>prevalentHyp</th>\n      <th>diabetes</th>\n      <th>totChol</th>\n      <th>sysBP</th>\n      <th>diaBP</th>\n      <th>BMI</th>\n      <th>heartRate</th>\n      <th>glucose</th>\n      <th>TenYearCHD</th>\n    </tr>\n  </thead>\n  <tbody>\n    <tr>\n      <th>0</th>\n      <td>0</td>\n      <td>1.0</td>\n      <td>0.184211</td>\n      <td>1.000000</td>\n      <td>0.0</td>\n      <td>0.000000</td>\n      <td>0.0</td>\n      <td>0.0</td>\n      <td>0.0</td>\n      <td>0.0</td>\n      <td>0.168378</td>\n      <td>0.106383</td>\n      <td>0.232804</td>\n      <td>0.277024</td>\n      <td>0.363636</td>\n      <td>0.104520</td>\n      <td>0.0</td>\n    </tr>\n    <tr>\n      <th>1</th>\n      <td>1</td>\n      <td>0.0</td>\n      <td>0.368421</td>\n      <td>0.333333</td>\n      <td>0.0</td>\n      <td>0.000000</td>\n      <td>0.0</td>\n      <td>0.0</td>\n      <td>0.0</td>\n      <td>0.0</td>\n      <td>0.281314</td>\n      <td>0.177305</td>\n      <td>0.349206</td>\n      <td>0.319680</td>\n      <td>0.515152</td>\n      <td>0.101695</td>\n      <td>0.0</td>\n    </tr>\n    <tr>\n      <th>2</th>\n      <td>2</td>\n      <td>1.0</td>\n      <td>0.421053</td>\n      <td>0.000000</td>\n      <td>1.0</td>\n      <td>0.285714</td>\n      <td>0.0</td>\n      <td>0.0</td>\n      <td>0.0</td>\n      <td>0.0</td>\n      <td>0.271047</td>\n      <td>0.208038</td>\n      <td>0.338624</td>\n      <td>0.237518</td>\n      <td>0.313131</td>\n      <td>0.084746</td>\n      <td>0.0</td>\n    </tr>\n    <tr>\n      <th>3</th>\n      <td>3</td>\n      <td>0.0</td>\n      <td>0.763158</td>\n      <td>0.666667</td>\n      <td>1.0</td>\n      <td>0.428571</td>\n      <td>0.0</td>\n      <td>0.0</td>\n      <td>1.0</td>\n      <td>0.0</td>\n      <td>0.229979</td>\n      <td>0.314421</td>\n      <td>0.497354</td>\n      <td>0.316045</td>\n      <td>0.212121</td>\n      <td>0.177966</td>\n      <td>1.0</td>\n    </tr>\n    <tr>\n      <th>4</th>\n      <td>4</td>\n      <td>0.0</td>\n      <td>0.368421</td>\n      <td>0.666667</td>\n      <td>1.0</td>\n      <td>0.328571</td>\n      <td>0.0</td>\n      <td>0.0</td>\n      <td>0.0</td>\n      <td>0.0</td>\n      <td>0.353183</td>\n      <td>0.219858</td>\n      <td>0.380952</td>\n      <td>0.183228</td>\n      <td>0.414141</td>\n      <td>0.127119</td>\n      <td>0.0</td>\n    </tr>\n    <tr>\n      <th>5</th>\n      <td>5</td>\n      <td>0.0</td>\n      <td>0.289474</td>\n      <td>0.333333</td>\n      <td>0.0</td>\n      <td>0.000000</td>\n      <td>0.0</td>\n      <td>0.0</td>\n      <td>1.0</td>\n      <td>0.0</td>\n      <td>0.236140</td>\n      <td>0.456265</td>\n      <td>0.656085</td>\n      <td>0.357731</td>\n      <td>0.333333</td>\n      <td>0.166667</td>\n      <td>0.0</td>\n    </tr>\n    <tr>\n      <th>6</th>\n      <td>6</td>\n      <td>0.0</td>\n      <td>0.815789</td>\n      <td>0.000000</td>\n      <td>0.0</td>\n      <td>0.000000</td>\n      <td>0.0</td>\n      <td>0.0</td>\n      <td>0.0</td>\n      <td>0.0</td>\n      <td>0.188912</td>\n      <td>0.257683</td>\n      <td>0.243386</td>\n      <td>0.425836</td>\n      <td>0.161616</td>\n      <td>0.127119</td>\n      <td>1.0</td>\n    </tr>\n    <tr>\n      <th>7</th>\n      <td>7</td>\n      <td>0.0</td>\n      <td>0.342105</td>\n      <td>0.333333</td>\n      <td>1.0</td>\n      <td>0.285714</td>\n      <td>0.0</td>\n      <td>0.0</td>\n      <td>0.0</td>\n      <td>0.0</td>\n      <td>0.410678</td>\n      <td>0.078014</td>\n      <td>0.243386</td>\n      <td>0.148812</td>\n      <td>0.353535</td>\n      <td>0.107345</td>\n      <td>0.0</td>\n    </tr>\n    <tr>\n      <th>8</th>\n      <td>8</td>\n      <td>1.0</td>\n      <td>0.526316</td>\n      <td>0.000000</td>\n      <td>0.0</td>\n      <td>0.000000</td>\n      <td>0.0</td>\n      <td>0.0</td>\n      <td>1.0</td>\n      <td>0.0</td>\n      <td>0.301848</td>\n      <td>0.274232</td>\n      <td>0.433862</td>\n      <td>0.262239</td>\n      <td>0.323232</td>\n      <td>0.110169</td>\n      <td>0.0</td>\n    </tr>\n    <tr>\n      <th>9</th>\n      <td>9</td>\n      <td>1.0</td>\n      <td>0.289474</td>\n      <td>0.000000</td>\n      <td>1.0</td>\n      <td>0.428571</td>\n      <td>0.0</td>\n      <td>0.0</td>\n      <td>1.0</td>\n      <td>0.0</td>\n      <td>0.229979</td>\n      <td>0.371158</td>\n      <td>0.624339</td>\n      <td>0.195589</td>\n      <td>0.494949</td>\n      <td>0.135593</td>\n      <td>0.0</td>\n    </tr>\n    <tr>\n      <th>10</th>\n      <td>10</td>\n      <td>0.0</td>\n      <td>0.473684</td>\n      <td>0.000000</td>\n      <td>0.0</td>\n      <td>0.000000</td>\n      <td>0.0</td>\n      <td>0.0</td>\n      <td>0.0</td>\n      <td>0.0</td>\n      <td>0.289528</td>\n      <td>0.234043</td>\n      <td>0.296296</td>\n      <td>0.178623</td>\n      <td>0.313131</td>\n      <td>0.101695</td>\n      <td>0.0</td>\n    </tr>\n    <tr>\n      <th>11</th>\n      <td>11</td>\n      <td>0.0</td>\n      <td>0.289474</td>\n      <td>0.333333</td>\n      <td>0.0</td>\n      <td>0.000000</td>\n      <td>0.0</td>\n      <td>0.0</td>\n      <td>0.0</td>\n      <td>0.0</td>\n      <td>0.275154</td>\n      <td>0.224586</td>\n      <td>0.423280</td>\n      <td>0.293262</td>\n      <td>0.282828</td>\n      <td>0.059322</td>\n      <td>0.0</td>\n    </tr>\n    <tr>\n      <th>12</th>\n      <td>12</td>\n      <td>1.0</td>\n      <td>0.368421</td>\n      <td>0.000000</td>\n      <td>1.0</td>\n      <td>0.214286</td>\n      <td>0.0</td>\n      <td>0.0</td>\n      <td>1.0</td>\n      <td>0.0</td>\n      <td>0.371663</td>\n      <td>0.276596</td>\n      <td>0.486772</td>\n      <td>0.261028</td>\n      <td>0.545455</td>\n      <td>0.067797</td>\n      <td>0.0</td>\n    </tr>\n    <tr>\n      <th>13</th>\n      <td>13</td>\n      <td>0.0</td>\n      <td>0.236842</td>\n      <td>0.666667</td>\n      <td>0.0</td>\n      <td>0.000000</td>\n      <td>1.0</td>\n      <td>0.0</td>\n      <td>1.0</td>\n      <td>0.0</td>\n      <td>0.449692</td>\n      <td>0.191489</td>\n      <td>0.423280</td>\n      <td>0.382210</td>\n      <td>0.212121</td>\n      <td>0.124294</td>\n      <td>0.0</td>\n    </tr>\n    <tr>\n      <th>14</th>\n      <td>15</td>\n      <td>0.0</td>\n      <td>0.157895</td>\n      <td>0.333333</td>\n      <td>1.0</td>\n      <td>0.285714</td>\n      <td>0.0</td>\n      <td>0.0</td>\n      <td>1.0</td>\n      <td>0.0</td>\n      <td>0.221766</td>\n      <td>0.267139</td>\n      <td>0.444444</td>\n      <td>0.140814</td>\n      <td>0.515152</td>\n      <td>0.084746</td>\n      <td>1.0</td>\n    </tr>\n    <tr>\n      <th>15</th>\n      <td>16</td>\n      <td>1.0</td>\n      <td>0.421053</td>\n      <td>0.666667</td>\n      <td>1.0</td>\n      <td>0.142857</td>\n      <td>0.0</td>\n      <td>0.0</td>\n      <td>1.0</td>\n      <td>0.0</td>\n      <td>0.244353</td>\n      <td>0.257683</td>\n      <td>0.444444</td>\n      <td>0.165536</td>\n      <td>0.202020</td>\n      <td>0.090395</td>\n      <td>0.0</td>\n    </tr>\n    <tr>\n      <th>16</th>\n      <td>17</td>\n      <td>0.0</td>\n      <td>0.368421</td>\n      <td>0.333333</td>\n      <td>1.0</td>\n      <td>0.285714</td>\n      <td>0.0</td>\n      <td>0.0</td>\n      <td>0.0</td>\n      <td>0.0</td>\n      <td>0.365503</td>\n      <td>0.134752</td>\n      <td>0.317460</td>\n      <td>0.190015</td>\n      <td>0.363636</td>\n      <td>0.138418</td>\n      <td>1.0</td>\n    </tr>\n    <tr>\n      <th>17</th>\n      <td>18</td>\n      <td>0.0</td>\n      <td>0.157895</td>\n      <td>0.333333</td>\n      <td>1.0</td>\n      <td>0.071429</td>\n      <td>0.0</td>\n      <td>0.0</td>\n      <td>0.0</td>\n      <td>0.0</td>\n      <td>0.168378</td>\n      <td>0.182033</td>\n      <td>0.386243</td>\n      <td>0.186621</td>\n      <td>0.313131</td>\n      <td>0.107345</td>\n      <td>0.0</td>\n    </tr>\n    <tr>\n      <th>18</th>\n      <td>19</td>\n      <td>1.0</td>\n      <td>0.236842</td>\n      <td>0.333333</td>\n      <td>0.0</td>\n      <td>0.000000</td>\n      <td>0.0</td>\n      <td>0.0</td>\n      <td>0.0</td>\n      <td>0.0</td>\n      <td>0.168378</td>\n      <td>0.262411</td>\n      <td>0.423280</td>\n      <td>0.274842</td>\n      <td>0.414141</td>\n      <td>0.070621</td>\n      <td>0.0</td>\n    </tr>\n    <tr>\n      <th>19</th>\n      <td>20</td>\n      <td>0.0</td>\n      <td>0.263158</td>\n      <td>0.333333</td>\n      <td>1.0</td>\n      <td>0.428571</td>\n      <td>0.0</td>\n      <td>0.0</td>\n      <td>0.0</td>\n      <td>0.0</td>\n      <td>0.158111</td>\n      <td>0.115839</td>\n      <td>0.238095</td>\n      <td>0.146631</td>\n      <td>0.282828</td>\n      <td>0.127119</td>\n      <td>0.0</td>\n    </tr>\n  </tbody>\n</table>\n</div>"
     },
     "execution_count": 13,
     "metadata": {},
     "output_type": "execute_result"
    }
   ],
   "source": [
    "from sklearn.preprocessing import MinMaxScaler\n",
    "scaler = MinMaxScaler()\n",
    "id = df.pop('id')\n",
    "df_normalized = pd.DataFrame(scaler.fit_transform(df), columns=df.columns)\n",
    "df_normalized = pd.concat([df_normalized, id.reset_index(drop=True)], axis=1)\n",
    "last_col = df_normalized.pop(df_normalized.columns[-1])\n",
    "df_normalized.insert(0, last_col.name, last_col)\n",
    "df_normalized.head(20)"
   ],
   "metadata": {
    "collapsed": false,
    "ExecuteTime": {
     "start_time": "2023-04-14T16:14:30.692738Z",
     "end_time": "2023-04-14T16:14:30.800600Z"
    }
   }
  },
  {
   "cell_type": "markdown",
   "source": [
    "### Write to new CSV"
   ],
   "metadata": {
    "collapsed": false
   }
  },
  {
   "cell_type": "code",
   "execution_count": 18,
   "outputs": [],
   "source": [
    "df_normalized.to_csv('GrpAssignment/cleaned_data_fram.csv', index=False)"
   ],
   "metadata": {
    "collapsed": false,
    "ExecuteTime": {
     "start_time": "2023-04-14T16:15:31.064820Z",
     "end_time": "2023-04-14T16:15:31.149782Z"
    }
   }
  },
  {
   "cell_type": "code",
   "execution_count": null,
   "outputs": [],
   "source": [],
   "metadata": {
    "collapsed": false
   }
  }
 ],
 "metadata": {
  "kernelspec": {
   "display_name": "Python 3",
   "language": "python",
   "name": "python3"
  },
  "language_info": {
   "codemirror_mode": {
    "name": "ipython",
    "version": 2
   },
   "file_extension": ".py",
   "mimetype": "text/x-python",
   "name": "python",
   "nbconvert_exporter": "python",
   "pygments_lexer": "ipython2",
   "version": "2.7.6"
  }
 },
 "nbformat": 4,
 "nbformat_minor": 0
}
