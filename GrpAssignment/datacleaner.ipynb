{
 "cells": [
  {
   "cell_type": "markdown",
   "source": [
    "## Data Cleaning - framingham.csv\n",
    "\n",
    "### Import libraries"
   ],
   "metadata": {
    "collapsed": false
   }
  },
  {
   "cell_type": "code",
   "execution_count": 41,
   "outputs": [],
   "source": [
    "import pandas as pd\n",
    "import numpy as np\n",
    "from scipy import stats"
   ],
   "metadata": {
    "collapsed": false,
    "ExecuteTime": {
     "start_time": "2023-04-18T21:26:48.274358Z",
     "end_time": "2023-04-18T21:26:48.357982Z"
    }
   }
  },
  {
   "cell_type": "markdown",
   "source": [
    "### Read CSV"
   ],
   "metadata": {
    "collapsed": false
   }
  },
  {
   "cell_type": "code",
   "execution_count": 42,
   "outputs": [
    {
     "name": "stdout",
     "output_type": "stream",
     "text": [
      "Number of records in total: 4238\n",
      "Number of records that has NaN values: 582\n"
     ]
    }
   ],
   "source": [
    "df = pd.read_csv('framingham.csv')\n",
    "num_nan_rows = df.isnull().sum(axis=1).astype(bool).sum()\n",
    "total_rows = df.shape[0]\n",
    "print('Number of records in total: {}\\nNumber of records that has NaN values: {}'.format(total_rows, num_nan_rows))"
   ],
   "metadata": {
    "collapsed": false,
    "ExecuteTime": {
     "start_time": "2023-04-18T21:26:48.282007Z",
     "end_time": "2023-04-18T21:26:48.400809Z"
    }
   }
  },
  {
   "cell_type": "markdown",
   "source": [
    "### Drop rows with missing values"
   ],
   "metadata": {
    "collapsed": false
   }
  },
  {
   "cell_type": "code",
   "execution_count": 43,
   "outputs": [
    {
     "name": "stdout",
     "output_type": "stream",
     "text": [
      "Number of records after removing NaN values: 3656\n"
     ]
    }
   ],
   "source": [
    "df['id'] = [i for i in range(len(df))]\n",
    "df = df.dropna()\n",
    "print('Number of records after removing NaN values: {}'.format(df.shape[0]))"
   ],
   "metadata": {
    "collapsed": false,
    "ExecuteTime": {
     "start_time": "2023-04-18T21:26:48.322233Z",
     "end_time": "2023-04-18T21:26:48.401810Z"
    }
   }
  },
  {
   "cell_type": "markdown",
   "source": [
    "### Dataset overview"
   ],
   "metadata": {
    "collapsed": false
   }
  },
  {
   "cell_type": "code",
   "execution_count": 44,
   "outputs": [
    {
     "name": "stdout",
     "output_type": "stream",
     "text": [
      "Unique values in column 'id' are:\n",
      "[   0    1    2 ... 4233 4234 4237]\n",
      "Unique values in column 'male' are:\n",
      "[1 0]\n",
      "Unique values in column 'age' are:\n",
      "[39 46 48 61 43 63 45 52 50 41 38 42 44 47 35 60 36 59 54 37 53 49 65 51\n",
      " 62 40 56 67 57 66 64 55 58 68 34 33 32 70 69]\n",
      "Unique values in column 'education' are:\n",
      "[4. 2. 1. 3.]\n",
      "Unique values in column 'currentSmoker' are:\n",
      "[0 1]\n",
      "Unique values in column 'cigsPerDay' are:\n",
      "[ 0. 20. 30. 23. 15. 10.  5. 35. 43.  1. 40.  3.  9.  2. 12.  4. 18. 60.\n",
      " 25. 45.  8. 13. 11.  7.  6. 38. 50. 29. 17. 16. 19. 70. 14.]\n",
      "Unique values in column 'BPMeds' are:\n",
      "[0. 1.]\n",
      "Unique values in column 'prevalentStroke' are:\n",
      "[0 1]\n",
      "Unique values in column 'prevalentHyp' are:\n",
      "[0 1]\n",
      "Unique values in column 'diabetes' are:\n",
      "[0 1]\n",
      "Unique values in column 'totChol' are:\n",
      "[195. 250. 245. 225. 285. 228. 205. 313. 260. 254. 247. 294. 332. 221.\n",
      " 232. 291. 190. 234. 215. 270. 272. 295. 226. 209. 214. 178. 233. 180.\n",
      " 243. 237. 311. 208. 252. 261. 179. 267. 216. 240. 266. 255. 185. 220.\n",
      " 235. 212. 223. 300. 302. 175. 189. 258. 202. 183. 274. 170. 210. 197.\n",
      " 326. 188. 256. 244. 193. 239. 296. 269. 275. 268. 265. 173. 273. 290.\n",
      " 278. 264. 282. 257. 241. 288. 200. 213. 303. 246. 150. 187. 286. 154.\n",
      " 279. 293. 259. 219. 230. 320. 312. 165. 159. 174. 242. 301. 167. 308.\n",
      " 325. 229. 236. 224. 253. 464. 248. 171. 186. 227. 249. 176. 196. 310.\n",
      " 164. 135. 238. 207. 342. 287. 182. 352. 284. 203. 262. 155. 323. 206.\n",
      " 283. 319. 194. 340. 328. 222. 368. 218. 276. 339. 231. 198. 201. 277.\n",
      " 304. 177. 199. 292. 305. 152. 161. 168. 181. 251. 271. 217. 370. 439.\n",
      " 145. 263. 330. 157. 398. 162. 314. 166. 160. 281. 289. 355. 307. 156.\n",
      " 329. 143. 211. 298. 334. 192. 184. 204. 280. 191. 163. 318. 353. 360.\n",
      " 335. 158. 346. 169. 140. 324. 600. 315. 392. 322. 306. 309. 149. 137.\n",
      " 172. 317. 358. 345. 391. 410. 297. 338. 148. 372. 366. 333. 327. 344.\n",
      " 144. 390. 321. 405. 359. 350. 336. 380. 299. 124. 371. 113. 354. 382.\n",
      " 364. 341. 133. 367. 153. 432. 351. 337. 363. 331. 316. 361. 453. 347.\n",
      " 373. 385. 119.]\n",
      "Unique values in column 'sysBP' are:\n",
      "[106.  121.  127.5 150.  130.  180.  138.  100.  141.5 162.  133.  131.\n",
      " 142.  124.  140.  112.  122.  139.  108.  148.  132.  137.5 102.  182.\n",
      " 115.  147.  124.5 160.  153.  111.  116.5 206.   96.  179.5 119.  116.\n",
      " 156.5 145.  114.  143.5 158.  157.  123.5 126.5 136.  154.  190.  107.\n",
      " 112.5 110.  138.5 155.  151.  152.  179.  113.  200.  132.5 126.  123.\n",
      " 134.  141.  135.  187.  127.  160.5 105.  109.  128.  118.  117.5 149.\n",
      " 180.5 136.5 212.  191.  121.5 173.  144.  129.5 117.  125.  144.5 170.\n",
      " 137.   94.  166.  177.5 129.  159.  130.5 107.5 189.  168.  197.5 146.\n",
      " 174.   98.  131.5 101.  158.5  97.  151.5  97.5 120.  204.  157.5 140.5\n",
      " 171.  215.   95.  156.  122.5 178.  146.5 113.5 197.   90.  109.5 165.\n",
      "  95.5 209.  162.5 295.  103.  134.5 115.5 174.5 163.  118.5 185.  220.\n",
      " 164.  120.5  98.5 161.  139.5 168.5 176.  163.5 128.5 167.  205.5 119.5\n",
      " 167.5 152.5 186.  183.  153.5 147.5 175.  142.5 192.   96.5 159.5 177.\n",
      " 102.5 244.  104.  213.  199.  184.  198.  114.5 125.5 111.5 105.5 143.\n",
      " 161.5 164.5 171.5 108.5 201.  148.5 172.  243.  145.5 187.5  99.  181.\n",
      " 133.5 100.5 135.5 172.5 103.5 149.5 182.5 186.5 217.  196.  193.  110.5\n",
      " 155.5  92.  169.  166.5 202.  150.5 195.  232.   85.5 184.5 188.  205.\n",
      " 169.5 210.  181.5 188.5 176.5  92.5 202.5 154.5  83.5 106.5 170.5  93.\n",
      " 175.5 207.5 199.5 101.5 248.   99.5  85.  230.  214.  192.5 104.5 194.\n",
      "  93.5 207.  185.5]\n",
      "Unique values in column 'diaBP' are:\n",
      "[ 70.   81.   80.   95.   84.  110.   71.   89.  107.   76.   88.   94.\n",
      "  90.   78.   84.5  70.5  82.   68.   91.  121.   85.5  85.   74.   92.5\n",
      "  98.  101.   73.   83.5  92.   63.  114.   77.5  69.   66.   82.5 102.\n",
      "  79.   75.   87.   99.   60.   67.5  72.5 106.   86.5 104.   86.   61.5\n",
      "  71.5  76.5  64.   77.   88.5 105.   96.   97.  100.  106.5  93.   80.5\n",
      " 124.5  61.   83.   67.   74.5  66.5  65.   72.   99.5 122.5  57.   57.5\n",
      " 111.   78.5 104.5  89.5 112.   55.  120.  118.   59.  133.   95.5  96.5\n",
      " 135.   64.5  68.5  98.5  62.  117.   59.5 103.   75.5  73.5  69.5  87.5\n",
      " 108.   93.5  90.5 114.5  62.5  94.5 140.  124.   91.5 115.  109.  102.5\n",
      "  65.5 105.5 103.5  63.5  79.5 107.5 142.5 109.5  58.   97.5 116.5 100.5\n",
      " 116.  119.   81.5  54.  132.  101.5 136.   51.  128.  125.  130.  110.5\n",
      " 113.   53.  108.5 112.5  52.   48.   56.   60.5 115.5 127.5]\n",
      "Unique values in column 'BMI' are:\n",
      "[26.97 28.73 25.34 ... 26.7  43.67 19.71]\n",
      "Unique values in column 'heartRate' are:\n",
      "[ 80.  95.  75.  65.  85.  77.  60.  79.  76.  93.  72.  98.  64.  70.\n",
      "  71.  62.  73.  90.  96.  68.  63.  88.  78.  83. 100.  84.  57.  50.\n",
      "  74.  86.  55.  92.  66.  87. 110.  81.  56.  89.  82.  54.  69.  67.\n",
      "  52.  61. 140. 130.  58. 104.  94. 105.  91.  53. 108. 106.  59. 107.\n",
      "  48. 112. 125. 103.  44.  47.  45.  97. 122. 102. 120.  99. 115. 143.\n",
      " 101.  46.]\n",
      "Unique values in column 'glucose' are:\n",
      "[ 77.  76.  70. 103.  85.  99.  78.  79.  88.  61.  64.  84.  72.  89.\n",
      "  65. 113.  75.  83.  66.  74.  63.  87. 225.  90.  80. 100. 215.  98.\n",
      "  95.  94.  55.  82.  93.  73.  45. 202.  68.  97. 104.  96. 126. 120.\n",
      " 105.  71.  56.  60. 117.  62. 102.  58.  92. 109.  86. 107.  54.  67.\n",
      "  69.  57.  91. 132. 150.  59.  81. 115. 140. 112. 118. 114. 160. 110.\n",
      " 123. 108. 145. 122. 137. 106. 127. 205. 130. 101.  47.  53. 216. 163.\n",
      " 144. 116. 121. 172. 124. 111.  40. 186. 223. 325.  44. 156. 268.  50.\n",
      " 274. 292. 255. 136. 206. 131. 148.  43. 173. 386. 155. 147. 170.  52.\n",
      " 320. 254. 394. 270. 244. 183. 142. 119. 167. 135. 207. 129. 177. 250.\n",
      " 294. 125. 332. 368. 348. 370. 193. 191. 256. 235. 210. 260.]\n",
      "Unique values in column 'TenYearCHD' are:\n",
      "[0 1]\n"
     ]
    }
   ],
   "source": [
    "df.head()\n",
    "df.columns\n",
    "for col in df.columns:\n",
    "    print(\"Unique values in column '{}' are:\".format(col))\n",
    "    print(df[col].unique())"
   ],
   "metadata": {
    "collapsed": false,
    "ExecuteTime": {
     "start_time": "2023-04-18T21:26:48.347810Z",
     "end_time": "2023-04-18T21:26:48.404811Z"
    }
   }
  },
  {
   "cell_type": "markdown",
   "source": [
    "### Remove outliers"
   ],
   "metadata": {
    "collapsed": false
   }
  },
  {
   "cell_type": "code",
   "execution_count": 45,
   "outputs": [
    {
     "data": {
      "text/plain": "        id  male  age  education  currentSmoker  cigsPerDay  BPMeds  \\\n0        0     1   39        4.0              0         0.0     0.0   \n1        1     0   46        2.0              0         0.0     0.0   \n2        2     1   48        1.0              1        20.0     0.0   \n3        3     0   61        3.0              1        30.0     0.0   \n4        4     0   46        3.0              1        23.0     0.0   \n...    ...   ...  ...        ...            ...         ...     ...   \n4231  4231     1   58        3.0              0         0.0     0.0   \n4232  4232     1   68        1.0              0         0.0     0.0   \n4233  4233     1   50        1.0              1         1.0     0.0   \n4234  4234     1   51        3.0              1        43.0     0.0   \n4237  4237     0   52        2.0              0         0.0     0.0   \n\n      prevalentStroke  prevalentHyp  diabetes  totChol  sysBP  diaBP    BMI  \\\n0                   0             0         0    195.0  106.0   70.0  26.97   \n1                   0             0         0    250.0  121.0   81.0  28.73   \n2                   0             0         0    245.0  127.5   80.0  25.34   \n3                   0             1         0    225.0  150.0   95.0  28.58   \n4                   0             0         0    285.0  130.0   84.0  23.10   \n...               ...           ...       ...      ...    ...    ...    ...   \n4231                0             1         0    187.0  141.0   81.0  24.96   \n4232                0             1         0    176.0  168.0   97.0  23.14   \n4233                0             1         0    313.0  179.0   92.0  25.97   \n4234                0             0         0    207.0  126.5   80.0  19.71   \n4237                0             0         0    269.0  133.5   83.0  21.47   \n\n      heartRate  glucose  TenYearCHD  \n0          80.0     77.0           0  \n1          95.0     76.0           0  \n2          75.0     70.0           0  \n3          65.0    103.0           1  \n4          85.0     85.0           0  \n...         ...      ...         ...  \n4231       80.0     81.0           0  \n4232       60.0     79.0           1  \n4233       66.0     86.0           1  \n4234       65.0     68.0           0  \n4237       80.0    107.0           0  \n\n[3310 rows x 17 columns]",
      "text/html": "<div>\n<style scoped>\n    .dataframe tbody tr th:only-of-type {\n        vertical-align: middle;\n    }\n\n    .dataframe tbody tr th {\n        vertical-align: top;\n    }\n\n    .dataframe thead th {\n        text-align: right;\n    }\n</style>\n<table border=\"1\" class=\"dataframe\">\n  <thead>\n    <tr style=\"text-align: right;\">\n      <th></th>\n      <th>id</th>\n      <th>male</th>\n      <th>age</th>\n      <th>education</th>\n      <th>currentSmoker</th>\n      <th>cigsPerDay</th>\n      <th>BPMeds</th>\n      <th>prevalentStroke</th>\n      <th>prevalentHyp</th>\n      <th>diabetes</th>\n      <th>totChol</th>\n      <th>sysBP</th>\n      <th>diaBP</th>\n      <th>BMI</th>\n      <th>heartRate</th>\n      <th>glucose</th>\n      <th>TenYearCHD</th>\n    </tr>\n  </thead>\n  <tbody>\n    <tr>\n      <th>0</th>\n      <td>0</td>\n      <td>1</td>\n      <td>39</td>\n      <td>4.0</td>\n      <td>0</td>\n      <td>0.0</td>\n      <td>0.0</td>\n      <td>0</td>\n      <td>0</td>\n      <td>0</td>\n      <td>195.0</td>\n      <td>106.0</td>\n      <td>70.0</td>\n      <td>26.97</td>\n      <td>80.0</td>\n      <td>77.0</td>\n      <td>0</td>\n    </tr>\n    <tr>\n      <th>1</th>\n      <td>1</td>\n      <td>0</td>\n      <td>46</td>\n      <td>2.0</td>\n      <td>0</td>\n      <td>0.0</td>\n      <td>0.0</td>\n      <td>0</td>\n      <td>0</td>\n      <td>0</td>\n      <td>250.0</td>\n      <td>121.0</td>\n      <td>81.0</td>\n      <td>28.73</td>\n      <td>95.0</td>\n      <td>76.0</td>\n      <td>0</td>\n    </tr>\n    <tr>\n      <th>2</th>\n      <td>2</td>\n      <td>1</td>\n      <td>48</td>\n      <td>1.0</td>\n      <td>1</td>\n      <td>20.0</td>\n      <td>0.0</td>\n      <td>0</td>\n      <td>0</td>\n      <td>0</td>\n      <td>245.0</td>\n      <td>127.5</td>\n      <td>80.0</td>\n      <td>25.34</td>\n      <td>75.0</td>\n      <td>70.0</td>\n      <td>0</td>\n    </tr>\n    <tr>\n      <th>3</th>\n      <td>3</td>\n      <td>0</td>\n      <td>61</td>\n      <td>3.0</td>\n      <td>1</td>\n      <td>30.0</td>\n      <td>0.0</td>\n      <td>0</td>\n      <td>1</td>\n      <td>0</td>\n      <td>225.0</td>\n      <td>150.0</td>\n      <td>95.0</td>\n      <td>28.58</td>\n      <td>65.0</td>\n      <td>103.0</td>\n      <td>1</td>\n    </tr>\n    <tr>\n      <th>4</th>\n      <td>4</td>\n      <td>0</td>\n      <td>46</td>\n      <td>3.0</td>\n      <td>1</td>\n      <td>23.0</td>\n      <td>0.0</td>\n      <td>0</td>\n      <td>0</td>\n      <td>0</td>\n      <td>285.0</td>\n      <td>130.0</td>\n      <td>84.0</td>\n      <td>23.10</td>\n      <td>85.0</td>\n      <td>85.0</td>\n      <td>0</td>\n    </tr>\n    <tr>\n      <th>...</th>\n      <td>...</td>\n      <td>...</td>\n      <td>...</td>\n      <td>...</td>\n      <td>...</td>\n      <td>...</td>\n      <td>...</td>\n      <td>...</td>\n      <td>...</td>\n      <td>...</td>\n      <td>...</td>\n      <td>...</td>\n      <td>...</td>\n      <td>...</td>\n      <td>...</td>\n      <td>...</td>\n      <td>...</td>\n    </tr>\n    <tr>\n      <th>4231</th>\n      <td>4231</td>\n      <td>1</td>\n      <td>58</td>\n      <td>3.0</td>\n      <td>0</td>\n      <td>0.0</td>\n      <td>0.0</td>\n      <td>0</td>\n      <td>1</td>\n      <td>0</td>\n      <td>187.0</td>\n      <td>141.0</td>\n      <td>81.0</td>\n      <td>24.96</td>\n      <td>80.0</td>\n      <td>81.0</td>\n      <td>0</td>\n    </tr>\n    <tr>\n      <th>4232</th>\n      <td>4232</td>\n      <td>1</td>\n      <td>68</td>\n      <td>1.0</td>\n      <td>0</td>\n      <td>0.0</td>\n      <td>0.0</td>\n      <td>0</td>\n      <td>1</td>\n      <td>0</td>\n      <td>176.0</td>\n      <td>168.0</td>\n      <td>97.0</td>\n      <td>23.14</td>\n      <td>60.0</td>\n      <td>79.0</td>\n      <td>1</td>\n    </tr>\n    <tr>\n      <th>4233</th>\n      <td>4233</td>\n      <td>1</td>\n      <td>50</td>\n      <td>1.0</td>\n      <td>1</td>\n      <td>1.0</td>\n      <td>0.0</td>\n      <td>0</td>\n      <td>1</td>\n      <td>0</td>\n      <td>313.0</td>\n      <td>179.0</td>\n      <td>92.0</td>\n      <td>25.97</td>\n      <td>66.0</td>\n      <td>86.0</td>\n      <td>1</td>\n    </tr>\n    <tr>\n      <th>4234</th>\n      <td>4234</td>\n      <td>1</td>\n      <td>51</td>\n      <td>3.0</td>\n      <td>1</td>\n      <td>43.0</td>\n      <td>0.0</td>\n      <td>0</td>\n      <td>0</td>\n      <td>0</td>\n      <td>207.0</td>\n      <td>126.5</td>\n      <td>80.0</td>\n      <td>19.71</td>\n      <td>65.0</td>\n      <td>68.0</td>\n      <td>0</td>\n    </tr>\n    <tr>\n      <th>4237</th>\n      <td>4237</td>\n      <td>0</td>\n      <td>52</td>\n      <td>2.0</td>\n      <td>0</td>\n      <td>0.0</td>\n      <td>0.0</td>\n      <td>0</td>\n      <td>0</td>\n      <td>0</td>\n      <td>269.0</td>\n      <td>133.5</td>\n      <td>83.0</td>\n      <td>21.47</td>\n      <td>80.0</td>\n      <td>107.0</td>\n      <td>0</td>\n    </tr>\n  </tbody>\n</table>\n<p>3310 rows × 17 columns</p>\n</div>"
     },
     "execution_count": 45,
     "metadata": {},
     "output_type": "execute_result"
    }
   ],
   "source": [
    "z_scores = np.abs(stats.zscore(df))\n",
    "threshold = 3\n",
    "df1=df[(z_scores < threshold).all(axis=1)]\n",
    "df1"
   ],
   "metadata": {
    "collapsed": false,
    "ExecuteTime": {
     "start_time": "2023-04-18T21:26:48.378019Z",
     "end_time": "2023-04-18T21:26:48.423490Z"
    }
   }
  },
  {
   "cell_type": "markdown",
   "source": [
    "### Normalize data"
   ],
   "metadata": {
    "collapsed": false
   }
  },
  {
   "cell_type": "code",
   "execution_count": 46,
   "outputs": [
    {
     "data": {
      "text/plain": "    id  male       age  education  currentSmoker  cigsPerDay  BPMeds  \\\n0    0   1.0  0.189189   1.000000            0.0    0.000000     0.0   \n1    1   0.0  0.378378   0.333333            0.0    0.000000     0.0   \n2    2   1.0  0.432432   0.000000            1.0    0.465116     0.0   \n3    3   0.0  0.783784   0.666667            1.0    0.697674     0.0   \n4    4   0.0  0.378378   0.666667            1.0    0.534884     0.0   \n5    5   0.0  0.297297   0.333333            0.0    0.000000     0.0   \n6    6   0.0  0.837838   0.000000            0.0    0.000000     0.0   \n7    7   0.0  0.351351   0.333333            1.0    0.465116     0.0   \n8    8   1.0  0.540541   0.000000            0.0    0.000000     0.0   \n9    9   1.0  0.297297   0.000000            1.0    0.697674     0.0   \n10  10   0.0  0.486486   0.000000            0.0    0.000000     0.0   \n11  11   0.0  0.297297   0.333333            0.0    0.000000     0.0   \n12  12   1.0  0.378378   0.000000            1.0    0.348837     0.0   \n13  15   0.0  0.162162   0.333333            1.0    0.465116     0.0   \n14  16   1.0  0.432432   0.666667            1.0    0.232558     0.0   \n15  17   0.0  0.378378   0.333333            1.0    0.465116     0.0   \n16  18   0.0  0.162162   0.333333            1.0    0.116279     0.0   \n17  19   1.0  0.243243   0.333333            0.0    0.000000     0.0   \n18  20   0.0  0.270270   0.333333            1.0    0.697674     0.0   \n19  22   0.0  0.540541   0.000000            0.0    0.000000     0.0   \n\n    prevalentStroke  prevalentHyp  diabetes   totChol     sysBP     diaBP  \\\n0               0.0           0.0       0.0  0.322835  0.196507  0.314286   \n1               0.0           0.0       0.0  0.539370  0.327511  0.471429   \n2               0.0           0.0       0.0  0.519685  0.384279  0.457143   \n3               0.0           1.0       0.0  0.440945  0.580786  0.671429   \n4               0.0           0.0       0.0  0.677165  0.406114  0.514286   \n5               0.0           1.0       0.0  0.452756  0.842795  0.885714   \n6               0.0           0.0       0.0  0.362205  0.475983  0.328571   \n7               0.0           0.0       0.0  0.787402  0.144105  0.328571   \n8               0.0           1.0       0.0  0.578740  0.506550  0.585714   \n9               0.0           1.0       0.0  0.440945  0.685590  0.842857   \n10              0.0           0.0       0.0  0.555118  0.432314  0.400000   \n11              0.0           0.0       0.0  0.527559  0.414847  0.571429   \n12              0.0           1.0       0.0  0.712598  0.510917  0.657143   \n13              0.0           1.0       0.0  0.425197  0.493450  0.600000   \n14              0.0           1.0       0.0  0.468504  0.475983  0.600000   \n15              0.0           0.0       0.0  0.700787  0.248908  0.428571   \n16              0.0           0.0       0.0  0.322835  0.336245  0.521429   \n17              0.0           0.0       0.0  0.322835  0.484716  0.571429   \n18              0.0           0.0       0.0  0.303150  0.213974  0.321429   \n19              0.0           0.0       0.0  0.476378  0.563319  0.428571   \n\n         BMI  heartRate   glucose  TenYearCHD  \n0   0.518603   0.545455  0.362745         0.0  \n1   0.598457   0.772727  0.352941         0.0  \n2   0.444646   0.469697  0.294118         0.0  \n3   0.591652   0.318182  0.617647         1.0  \n4   0.343013   0.621212  0.441176         0.0  \n5   0.669691   0.500000  0.578431         0.0  \n6   0.797187   0.242424  0.441176         1.0  \n7   0.278584   0.530303  0.372549         0.0  \n8   0.490926   0.484848  0.382353         0.0  \n9   0.366152   0.742424  0.470588         0.0  \n10  0.334392   0.469697  0.352941         0.0  \n11  0.549002   0.424242  0.205882         0.0  \n12  0.488657   0.818182  0.235294         0.0  \n13  0.263612   0.772727  0.294118         1.0  \n14  0.309891   0.303030  0.313725         0.0  \n15  0.355717   0.545455  0.480392         1.0  \n16  0.349365   0.469697  0.372549         0.0  \n17  0.514519   0.621212  0.245098         0.0  \n18  0.274501   0.424242  0.441176         0.0  \n19  0.845281   0.393939  0.715686         0.0  ",
      "text/html": "<div>\n<style scoped>\n    .dataframe tbody tr th:only-of-type {\n        vertical-align: middle;\n    }\n\n    .dataframe tbody tr th {\n        vertical-align: top;\n    }\n\n    .dataframe thead th {\n        text-align: right;\n    }\n</style>\n<table border=\"1\" class=\"dataframe\">\n  <thead>\n    <tr style=\"text-align: right;\">\n      <th></th>\n      <th>id</th>\n      <th>male</th>\n      <th>age</th>\n      <th>education</th>\n      <th>currentSmoker</th>\n      <th>cigsPerDay</th>\n      <th>BPMeds</th>\n      <th>prevalentStroke</th>\n      <th>prevalentHyp</th>\n      <th>diabetes</th>\n      <th>totChol</th>\n      <th>sysBP</th>\n      <th>diaBP</th>\n      <th>BMI</th>\n      <th>heartRate</th>\n      <th>glucose</th>\n      <th>TenYearCHD</th>\n    </tr>\n  </thead>\n  <tbody>\n    <tr>\n      <th>0</th>\n      <td>0</td>\n      <td>1.0</td>\n      <td>0.189189</td>\n      <td>1.000000</td>\n      <td>0.0</td>\n      <td>0.000000</td>\n      <td>0.0</td>\n      <td>0.0</td>\n      <td>0.0</td>\n      <td>0.0</td>\n      <td>0.322835</td>\n      <td>0.196507</td>\n      <td>0.314286</td>\n      <td>0.518603</td>\n      <td>0.545455</td>\n      <td>0.362745</td>\n      <td>0.0</td>\n    </tr>\n    <tr>\n      <th>1</th>\n      <td>1</td>\n      <td>0.0</td>\n      <td>0.378378</td>\n      <td>0.333333</td>\n      <td>0.0</td>\n      <td>0.000000</td>\n      <td>0.0</td>\n      <td>0.0</td>\n      <td>0.0</td>\n      <td>0.0</td>\n      <td>0.539370</td>\n      <td>0.327511</td>\n      <td>0.471429</td>\n      <td>0.598457</td>\n      <td>0.772727</td>\n      <td>0.352941</td>\n      <td>0.0</td>\n    </tr>\n    <tr>\n      <th>2</th>\n      <td>2</td>\n      <td>1.0</td>\n      <td>0.432432</td>\n      <td>0.000000</td>\n      <td>1.0</td>\n      <td>0.465116</td>\n      <td>0.0</td>\n      <td>0.0</td>\n      <td>0.0</td>\n      <td>0.0</td>\n      <td>0.519685</td>\n      <td>0.384279</td>\n      <td>0.457143</td>\n      <td>0.444646</td>\n      <td>0.469697</td>\n      <td>0.294118</td>\n      <td>0.0</td>\n    </tr>\n    <tr>\n      <th>3</th>\n      <td>3</td>\n      <td>0.0</td>\n      <td>0.783784</td>\n      <td>0.666667</td>\n      <td>1.0</td>\n      <td>0.697674</td>\n      <td>0.0</td>\n      <td>0.0</td>\n      <td>1.0</td>\n      <td>0.0</td>\n      <td>0.440945</td>\n      <td>0.580786</td>\n      <td>0.671429</td>\n      <td>0.591652</td>\n      <td>0.318182</td>\n      <td>0.617647</td>\n      <td>1.0</td>\n    </tr>\n    <tr>\n      <th>4</th>\n      <td>4</td>\n      <td>0.0</td>\n      <td>0.378378</td>\n      <td>0.666667</td>\n      <td>1.0</td>\n      <td>0.534884</td>\n      <td>0.0</td>\n      <td>0.0</td>\n      <td>0.0</td>\n      <td>0.0</td>\n      <td>0.677165</td>\n      <td>0.406114</td>\n      <td>0.514286</td>\n      <td>0.343013</td>\n      <td>0.621212</td>\n      <td>0.441176</td>\n      <td>0.0</td>\n    </tr>\n    <tr>\n      <th>5</th>\n      <td>5</td>\n      <td>0.0</td>\n      <td>0.297297</td>\n      <td>0.333333</td>\n      <td>0.0</td>\n      <td>0.000000</td>\n      <td>0.0</td>\n      <td>0.0</td>\n      <td>1.0</td>\n      <td>0.0</td>\n      <td>0.452756</td>\n      <td>0.842795</td>\n      <td>0.885714</td>\n      <td>0.669691</td>\n      <td>0.500000</td>\n      <td>0.578431</td>\n      <td>0.0</td>\n    </tr>\n    <tr>\n      <th>6</th>\n      <td>6</td>\n      <td>0.0</td>\n      <td>0.837838</td>\n      <td>0.000000</td>\n      <td>0.0</td>\n      <td>0.000000</td>\n      <td>0.0</td>\n      <td>0.0</td>\n      <td>0.0</td>\n      <td>0.0</td>\n      <td>0.362205</td>\n      <td>0.475983</td>\n      <td>0.328571</td>\n      <td>0.797187</td>\n      <td>0.242424</td>\n      <td>0.441176</td>\n      <td>1.0</td>\n    </tr>\n    <tr>\n      <th>7</th>\n      <td>7</td>\n      <td>0.0</td>\n      <td>0.351351</td>\n      <td>0.333333</td>\n      <td>1.0</td>\n      <td>0.465116</td>\n      <td>0.0</td>\n      <td>0.0</td>\n      <td>0.0</td>\n      <td>0.0</td>\n      <td>0.787402</td>\n      <td>0.144105</td>\n      <td>0.328571</td>\n      <td>0.278584</td>\n      <td>0.530303</td>\n      <td>0.372549</td>\n      <td>0.0</td>\n    </tr>\n    <tr>\n      <th>8</th>\n      <td>8</td>\n      <td>1.0</td>\n      <td>0.540541</td>\n      <td>0.000000</td>\n      <td>0.0</td>\n      <td>0.000000</td>\n      <td>0.0</td>\n      <td>0.0</td>\n      <td>1.0</td>\n      <td>0.0</td>\n      <td>0.578740</td>\n      <td>0.506550</td>\n      <td>0.585714</td>\n      <td>0.490926</td>\n      <td>0.484848</td>\n      <td>0.382353</td>\n      <td>0.0</td>\n    </tr>\n    <tr>\n      <th>9</th>\n      <td>9</td>\n      <td>1.0</td>\n      <td>0.297297</td>\n      <td>0.000000</td>\n      <td>1.0</td>\n      <td>0.697674</td>\n      <td>0.0</td>\n      <td>0.0</td>\n      <td>1.0</td>\n      <td>0.0</td>\n      <td>0.440945</td>\n      <td>0.685590</td>\n      <td>0.842857</td>\n      <td>0.366152</td>\n      <td>0.742424</td>\n      <td>0.470588</td>\n      <td>0.0</td>\n    </tr>\n    <tr>\n      <th>10</th>\n      <td>10</td>\n      <td>0.0</td>\n      <td>0.486486</td>\n      <td>0.000000</td>\n      <td>0.0</td>\n      <td>0.000000</td>\n      <td>0.0</td>\n      <td>0.0</td>\n      <td>0.0</td>\n      <td>0.0</td>\n      <td>0.555118</td>\n      <td>0.432314</td>\n      <td>0.400000</td>\n      <td>0.334392</td>\n      <td>0.469697</td>\n      <td>0.352941</td>\n      <td>0.0</td>\n    </tr>\n    <tr>\n      <th>11</th>\n      <td>11</td>\n      <td>0.0</td>\n      <td>0.297297</td>\n      <td>0.333333</td>\n      <td>0.0</td>\n      <td>0.000000</td>\n      <td>0.0</td>\n      <td>0.0</td>\n      <td>0.0</td>\n      <td>0.0</td>\n      <td>0.527559</td>\n      <td>0.414847</td>\n      <td>0.571429</td>\n      <td>0.549002</td>\n      <td>0.424242</td>\n      <td>0.205882</td>\n      <td>0.0</td>\n    </tr>\n    <tr>\n      <th>12</th>\n      <td>12</td>\n      <td>1.0</td>\n      <td>0.378378</td>\n      <td>0.000000</td>\n      <td>1.0</td>\n      <td>0.348837</td>\n      <td>0.0</td>\n      <td>0.0</td>\n      <td>1.0</td>\n      <td>0.0</td>\n      <td>0.712598</td>\n      <td>0.510917</td>\n      <td>0.657143</td>\n      <td>0.488657</td>\n      <td>0.818182</td>\n      <td>0.235294</td>\n      <td>0.0</td>\n    </tr>\n    <tr>\n      <th>13</th>\n      <td>15</td>\n      <td>0.0</td>\n      <td>0.162162</td>\n      <td>0.333333</td>\n      <td>1.0</td>\n      <td>0.465116</td>\n      <td>0.0</td>\n      <td>0.0</td>\n      <td>1.0</td>\n      <td>0.0</td>\n      <td>0.425197</td>\n      <td>0.493450</td>\n      <td>0.600000</td>\n      <td>0.263612</td>\n      <td>0.772727</td>\n      <td>0.294118</td>\n      <td>1.0</td>\n    </tr>\n    <tr>\n      <th>14</th>\n      <td>16</td>\n      <td>1.0</td>\n      <td>0.432432</td>\n      <td>0.666667</td>\n      <td>1.0</td>\n      <td>0.232558</td>\n      <td>0.0</td>\n      <td>0.0</td>\n      <td>1.0</td>\n      <td>0.0</td>\n      <td>0.468504</td>\n      <td>0.475983</td>\n      <td>0.600000</td>\n      <td>0.309891</td>\n      <td>0.303030</td>\n      <td>0.313725</td>\n      <td>0.0</td>\n    </tr>\n    <tr>\n      <th>15</th>\n      <td>17</td>\n      <td>0.0</td>\n      <td>0.378378</td>\n      <td>0.333333</td>\n      <td>1.0</td>\n      <td>0.465116</td>\n      <td>0.0</td>\n      <td>0.0</td>\n      <td>0.0</td>\n      <td>0.0</td>\n      <td>0.700787</td>\n      <td>0.248908</td>\n      <td>0.428571</td>\n      <td>0.355717</td>\n      <td>0.545455</td>\n      <td>0.480392</td>\n      <td>1.0</td>\n    </tr>\n    <tr>\n      <th>16</th>\n      <td>18</td>\n      <td>0.0</td>\n      <td>0.162162</td>\n      <td>0.333333</td>\n      <td>1.0</td>\n      <td>0.116279</td>\n      <td>0.0</td>\n      <td>0.0</td>\n      <td>0.0</td>\n      <td>0.0</td>\n      <td>0.322835</td>\n      <td>0.336245</td>\n      <td>0.521429</td>\n      <td>0.349365</td>\n      <td>0.469697</td>\n      <td>0.372549</td>\n      <td>0.0</td>\n    </tr>\n    <tr>\n      <th>17</th>\n      <td>19</td>\n      <td>1.0</td>\n      <td>0.243243</td>\n      <td>0.333333</td>\n      <td>0.0</td>\n      <td>0.000000</td>\n      <td>0.0</td>\n      <td>0.0</td>\n      <td>0.0</td>\n      <td>0.0</td>\n      <td>0.322835</td>\n      <td>0.484716</td>\n      <td>0.571429</td>\n      <td>0.514519</td>\n      <td>0.621212</td>\n      <td>0.245098</td>\n      <td>0.0</td>\n    </tr>\n    <tr>\n      <th>18</th>\n      <td>20</td>\n      <td>0.0</td>\n      <td>0.270270</td>\n      <td>0.333333</td>\n      <td>1.0</td>\n      <td>0.697674</td>\n      <td>0.0</td>\n      <td>0.0</td>\n      <td>0.0</td>\n      <td>0.0</td>\n      <td>0.303150</td>\n      <td>0.213974</td>\n      <td>0.321429</td>\n      <td>0.274501</td>\n      <td>0.424242</td>\n      <td>0.441176</td>\n      <td>0.0</td>\n    </tr>\n    <tr>\n      <th>19</th>\n      <td>22</td>\n      <td>0.0</td>\n      <td>0.540541</td>\n      <td>0.000000</td>\n      <td>0.0</td>\n      <td>0.000000</td>\n      <td>0.0</td>\n      <td>0.0</td>\n      <td>0.0</td>\n      <td>0.0</td>\n      <td>0.476378</td>\n      <td>0.563319</td>\n      <td>0.428571</td>\n      <td>0.845281</td>\n      <td>0.393939</td>\n      <td>0.715686</td>\n      <td>0.0</td>\n    </tr>\n  </tbody>\n</table>\n</div>"
     },
     "execution_count": 46,
     "metadata": {},
     "output_type": "execute_result"
    }
   ],
   "source": [
    "from sklearn.preprocessing import MinMaxScaler\n",
    "scaler = MinMaxScaler()\n",
    "id = df1.pop('id')\n",
    "df_normalized = pd.DataFrame(scaler.fit_transform(df1), columns=df1.columns)\n",
    "df_normalized = pd.concat([df_normalized, id.reset_index(drop=True)], axis=1)\n",
    "last_col = df_normalized.pop(df_normalized.columns[-1])\n",
    "df_normalized.insert(0, last_col.name, last_col)\n",
    "df_normalized.head(20)"
   ],
   "metadata": {
    "collapsed": false,
    "ExecuteTime": {
     "start_time": "2023-04-18T21:26:48.434021Z",
     "end_time": "2023-04-18T21:26:48.548011Z"
    }
   }
  },
  {
   "cell_type": "markdown",
   "source": [
    "### Write to new CSV"
   ],
   "metadata": {
    "collapsed": false
   }
  },
  {
   "cell_type": "code",
   "execution_count": 47,
   "outputs": [],
   "source": [
    "df_normalized.to_csv('cleaned_data_fram.csv', index=False)"
   ],
   "metadata": {
    "collapsed": false,
    "ExecuteTime": {
     "start_time": "2023-04-18T21:26:48.499053Z",
     "end_time": "2023-04-18T21:26:48.806239Z"
    }
   }
  },
  {
   "cell_type": "code",
   "execution_count": 47,
   "outputs": [],
   "source": [],
   "metadata": {
    "collapsed": false,
    "ExecuteTime": {
     "start_time": "2023-04-18T21:26:48.590927Z",
     "end_time": "2023-04-18T21:26:48.867010Z"
    }
   }
  }
 ],
 "metadata": {
  "kernelspec": {
   "display_name": "Python 3",
   "language": "python",
   "name": "python3"
  },
  "language_info": {
   "codemirror_mode": {
    "name": "ipython",
    "version": 2
   },
   "file_extension": ".py",
   "mimetype": "text/x-python",
   "name": "python",
   "nbconvert_exporter": "python",
   "pygments_lexer": "ipython2",
   "version": "2.7.6"
  }
 },
 "nbformat": 4,
 "nbformat_minor": 0
}
